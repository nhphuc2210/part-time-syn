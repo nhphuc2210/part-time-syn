{
 "cells": [
  {
   "cell_type": "code",
   "execution_count": 2,
   "id": "88adc4a2",
   "metadata": {},
   "outputs": [],
   "source": [
    "import pandas as pd\n",
    "import numpy as np\n",
    "pd.options.mode.chained_assignment = None  # default='warn'\n",
    "import sys,os,shutil\n",
    "sys.path.append(\"..\")\n",
    "import argparse\n",
    "import logging\n",
    "from office365.runtime.auth.user_credential import UserCredential\n",
    "from office365.sharepoint.client_context import ClientContext\n",
    "\n",
    "# from common.util.database.snowflake import SnowflakeLoader\n",
    "# from common.loader.excel_loader.util import source_to_parquet\n",
    "# from common.constant.mode import ETLMode\n",
    "# license_hp_service = 'C:/cloud_service'\n",
    "# sys.path.append(license_hp_service)\n",
    "# import hoangphuc__function\n"
   ]
  },
  {
   "cell_type": "code",
   "execution_count": null,
   "id": "5e48a8e3",
   "metadata": {},
   "outputs": [],
   "source": [
    "def download_from_sharepoint(account_sharepoint, pwsd_sharepoint, site_url, file_name, file_path, download_to):\n",
    "    try:\n",
    "        ctx = ClientContext(site_url).with_credentials(UserCredential(account_sharepoint, pwsd_sharepoint))\n",
    "        _file = open(download_to, \"wb\")\n",
    "        ctx.web.get_file_by_server_relative_path(file_path).download(\n",
    "                _file\n",
    "            ).execute_query()\n",
    "        print(f\"====Downloaded Source File for {file_name}====\")\n",
    "        _file.close()\n",
    "    except Exception as e:\n",
    "        print(e)\n",
    "        input(\"Cannot download. Press any key to exit.\")\n",
    "\n",
    "def create_folder_if_not_exists(folder):\n",
    "    if not os.path.exists(folder):\n",
    "        os.makedirs(folder)\n",
    " \n",
    "def del_file_in_folder(folder):\n",
    "    for filename in os.listdir(folder):\n",
    "        file_path = os.path.join(folder, filename)\n",
    "        try:\n",
    "            if os.path.isfile(file_path) or os.path.islink(file_path):\n",
    "                os.unlink(file_path)\n",
    "            elif os.path.isdir(file_path):\n",
    "                shutil.rmtree(file_path)\n",
    "        except Exception as e:\n",
    "            print('Failed to delete %s. Reason: %s' % (file_path, e))\n",
    "\n",
    "def ask__yes_no(mess):\n",
    "    while True:\n",
    "        answer = input('\\n\\t{} y/n: '.format(mess))\n",
    "        if answer in ('y','n'):\n",
    "            break\n",
    "        else:\n",
    "            print(\"\\tInvalid input\")\n",
    "    return answer\n"
   ]
  }
 ],
 "metadata": {
  "kernelspec": {
   "display_name": "Python 3.8.3rc1 64-bit",
   "language": "python",
   "name": "python3"
  },
  "language_info": {
   "codemirror_mode": {
    "name": "ipython",
    "version": 3
   },
   "file_extension": ".py",
   "mimetype": "text/x-python",
   "name": "python",
   "nbconvert_exporter": "python",
   "pygments_lexer": "ipython3",
   "version": "3.8.3"
  },
  "vscode": {
   "interpreter": {
    "hash": "570feb405e2e27c949193ac68f46852414290d515b0ba6e5d90d076ed2284471"
   }
  }
 },
 "nbformat": 4,
 "nbformat_minor": 5
}
